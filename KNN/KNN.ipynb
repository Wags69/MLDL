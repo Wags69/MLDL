{
 "cells": [
  {
   "cell_type": "markdown",
   "metadata": {},
   "source": [
    "# K Nearest Neigbours\n",
    "Dataset used: https://www.kaggle.com/arshid/iris-flower-dataset"
   ]
  },
  {
   "cell_type": "markdown",
   "metadata": {},
   "source": [
    "### Imports"
   ]
  },
  {
   "cell_type": "code",
   "execution_count": 245,
   "metadata": {},
   "outputs": [],
   "source": [
    "import numpy as np\n",
    "import math\n",
    "from collections import Counter"
   ]
  },
  {
   "cell_type": "markdown",
   "metadata": {},
   "source": [
    "### Data"
   ]
  },
  {
   "cell_type": "code",
   "execution_count": 246,
   "metadata": {},
   "outputs": [],
   "source": [
    "array = np.array([])\n",
    "labels = []\n",
    "\n",
    "with open('iris.csv', 'r') as file:\n",
    "    lines = csv.reader(file)\n",
    "    array = [x for x in csv.reader(file)]\n",
    "    \n",
    "labels, array = array[0], array[1:]\n",
    "\n",
    "for x in range(len(array)):\n",
    "    for y in range(4):\n",
    "        array[x][y] = float(array[x][y])\n",
    "        \n",
    "np.random.shuffle(array)\n",
    "\n",
    "ratio = int(len(array) * 0.7)\n",
    "\n",
    "training_set, testing_set = array[:ratio], array[ratio:]"
   ]
  },
  {
   "cell_type": "markdown",
   "metadata": {},
   "source": [
    "### Euclidean Distance"
   ]
  },
  {
   "cell_type": "code",
   "execution_count": 195,
   "metadata": {},
   "outputs": [],
   "source": [
    "def distance(v1, v2):\n",
    "    return math.sqrt(sum(map(lambda a, b: (a - b) ** 2, v1, v2)))"
   ]
  },
  {
   "cell_type": "markdown",
   "metadata": {},
   "source": [
    "### K Nearest Neigbours"
   ]
  },
  {
   "cell_type": "code",
   "execution_count": 196,
   "metadata": {},
   "outputs": [],
   "source": [
    "def k_nearest_neighbours(k, training_set, testing_tuple):\n",
    "    distances = []\n",
    "    \n",
    "    l = len(testing_tuple) - 1\n",
    "    \n",
    "    for i, j in enumerate(training_set):\n",
    "        distances.append((i, distance(testing_tuple[:l], j[:l])))\n",
    "                \n",
    "    return sorted(distances, key=lambda a: a[1])[:k]"
   ]
  },
  {
   "cell_type": "markdown",
   "metadata": {},
   "source": [
    "### Calculating Accuracy"
   ]
  },
  {
   "cell_type": "code",
   "execution_count": 247,
   "metadata": {},
   "outputs": [],
   "source": [
    "def accuracy(predictions, testing_set):\n",
    "    l = len(predictions)\n",
    "    counter = 0\n",
    "    \n",
    "    for idx, prediction in predictions:\n",
    "        if prediction == testing_set[idx][-1]:\n",
    "            counter += 1\n",
    "                        \n",
    "    return (counter / len(testing_set)) * 100.0"
   ]
  },
  {
   "cell_type": "markdown",
   "metadata": {},
   "source": [
    "### Running the test"
   ]
  },
  {
   "cell_type": "code",
   "execution_count": null,
   "metadata": {},
   "outputs": [],
   "source": [
    "predictions = []\n",
    "\n",
    "for i, testing_tuple in enumerate(testing_set):\n",
    "    neighbour_indxs = k_nearest_neighbours(3, training_set, testing_tuple)\n",
    "    neighbours = [training_set[x][-1] for x, _ in neighbour_indxs]\n",
    "    counter = Counter([x for x in neighbours])\n",
    "    predictions.append((i, counter.most_common()[0][0]))    "
   ]
  },
  {
   "cell_type": "code",
   "execution_count": 243,
   "metadata": {},
   "outputs": [
    {
     "name": "stdout",
     "output_type": "stream",
     "text": [
      "91.11111111111111%\n"
     ]
    }
   ],
   "source": [
    "print(f'{accuracy(predictions, testing_set)}%')"
   ]
  }
 ],
 "metadata": {
  "kernelspec": {
   "display_name": "Python 3",
   "language": "python",
   "name": "python3"
  },
  "language_info": {
   "codemirror_mode": {
    "name": "ipython",
    "version": 3
   },
   "file_extension": ".py",
   "mimetype": "text/x-python",
   "name": "python",
   "nbconvert_exporter": "python",
   "pygments_lexer": "ipython3",
   "version": "3.7.3"
  }
 },
 "nbformat": 4,
 "nbformat_minor": 4
}
